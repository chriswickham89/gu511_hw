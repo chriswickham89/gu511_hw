{
 "cells": [
  {
   "cell_type": "markdown",
   "metadata": {},
   "source": [
    "# Exercises due by EOD 2018.09.21"
   ]
  },
  {
   "cell_type": "markdown",
   "metadata": {},
   "source": [
    "## goal"
   ]
  },
  {
   "cell_type": "markdown",
   "metadata": {},
   "source": [
    "in this homework assignment we will begin our `git` journey, learn a bit more about `linux`, and make a bold new `ssh` connection"
   ]
  },
  {
   "cell_type": "markdown",
   "metadata": {},
   "source": [
    "## method of delivery"
   ]
  },
  {
   "cell_type": "markdown",
   "metadata": {},
   "source": [
    "as mentioned in our first lecture, the method of delivery may change from assignment to assignment. we will include this section in every assignment to provide an overview of how we expect homework results to be submitted, and to provide background notes or explanations for \"new\" delivery concepts or methods."
   ]
  },
  {
   "cell_type": "markdown",
   "metadata": {},
   "source": [
    "this week you will not be submitting the results of your homework directly. instead, we will observe success or failure via logfiles and access to `github` pages\n",
    "\n",
    "summary:\n",
    "\n",
    "| exercise | deliverable | method of delivery |\n",
    "|----------|-------------|--------------------|\n",
    "| 1 | none | none |\n",
    "| 2 | none | none |\n",
    "| 3 | none | none |\n",
    "| 4 | none | none |\n",
    "| 5 | none | none |\n",
    "\n",
    "your eyes do not deceive you -- there is no intentional submission this week"
   ]
  },
  {
   "cell_type": "markdown",
   "metadata": {},
   "source": [
    "# exercise 1: complete the \"learn `python` the hard way: command line crash course\"\n",
    "\n",
    "walk through [this short linux tutorial](https://learnpythonthehardway.org/book/appendixa.html) for a second crash course in linux fundamentals. don't do the whole `python` course, just the appendix on `linux`\n",
    "\n",
    "don't be worried about the number of chapters -- each chapter is just one command. also, focus on the `linux` commands and skip the `windows` commands unless you want to.\n",
    "\n",
    "##### there is nothing to submit here"
   ]
  },
  {
   "cell_type": "markdown",
   "metadata": {},
   "source": [
    "# exercise 1: complete the \"learn `python` the hard way: command line crash course\" <span style=\"color:red;font-weight:bold\">ANSWERS</span>\n",
    "\n",
    "<br><div align=\"center\"><img src=\"https://daylekinney.files.wordpress.com/2016/08/justreadit1.jpg\"></div>"
   ]
  },
  {
   "cell_type": "markdown",
   "metadata": {},
   "source": [
    "# exercise 2: install `git` on your personal computer\n",
    "\n",
    "our `aws` `ubuntu` instances command with the `git` command line interface pre-installed -- pretty nifty. your laptop? less nifty.\n",
    "\n",
    "throughtout this course, we will be using `git` from the command line often. let's install it on your laptop so we can use `git` in all our many special computing environments\n",
    "\n",
    "\n",
    "## do you already have `git`?\n",
    "\n",
    "for either windows or mac, if you can open up a terminal or command prompt and type `git --version` and you get a real response about the version of `git` and that version is **greater than or equal to 2.0.0**, you're done!\n",
    "\n",
    "\n",
    "## otherwise...\n",
    "\n",
    "+ windows\n",
    "    + install [git for windows](https://gitforwindows.org/). we will use the `git bash` component regularly\n",
    "+ mac\n",
    "    + if you definitely know you use `homebrew` to install your packages:\n",
    "        + `brew install git`\n",
    "    + if you aren't sure or don't know what that means:\n",
    "        + when you typed `git --version` above, you probably got a prompt asking if you wanted to install it and / or `xcode` command line tools. go through that install process!\n",
    "        \n",
    "if you get lost in the above, refere to the [official install instructions](https://git-scm.com/book/en/v2/Getting-Started-Installing-Git)\n",
    "\n",
    "\n",
    "## bells and whistles\n",
    "\n",
    "you may want to try out [the `github` desktop client](https://desktop.github.com/), which is pretty fancy. we will focus on working from the command line in this class, but you may find it generally useful!\n",
    "\n",
    "\n",
    "##### there is nothing to submit here"
   ]
  },
  {
   "cell_type": "markdown",
   "metadata": {},
   "source": [
    "# exercise 2: install `git` on your personal computer <span style=\"color:red;font-weight:bold\">ANSWERS</span>\n",
    "\n",
    "follow the steps, folks!"
   ]
  },
  {
   "cell_type": "markdown",
   "metadata": {},
   "source": [
    "# exercise 3: create a brand new *remote* `github` repository\n",
    "\n",
    "log in to your `github` account and create a new public repository.\n",
    "\n",
    "+ repository name: `gu511_git_hw`\n",
    "+ description: anything you want\n",
    "+ public\n",
    "+ do *not* initialize with a README\n",
    "+ create\n",
    "+ **don't do any of the listed things -- just leave it!**\n",
    "\n",
    "at the end of this, you should be at a page that looks like this:\n",
    "\n",
    "<br><div align=\"center\"><img src=\"http://drive.google.com/uc?export=view&id=1l8WWJvEcJSk9Pronh2J5mZMA99bw_v0J\"></div>\n",
    "\n",
    "##### there is nothing to submit"
   ]
  },
  {
   "cell_type": "markdown",
   "metadata": {},
   "source": [
    "# exercise 3: create a brand new *remote* `github` repository <span style=\"color:red;font-weight:bold\">ANSWERS</span>\n",
    "\n",
    "follow the steps, folks!"
   ]
  },
  {
   "cell_type": "markdown",
   "metadata": {},
   "source": [
    "# exercise 4: add collaborators\n",
    "\n",
    "add `rzachlamberty` and `chblanc` as collaborators (from your repo's main page > settings tab > collaborators left menu bar option)\n",
    "\n",
    "<br><div align=\"center\"><img src=\"http://drive.google.com/uc?export=view&id=1TwrmqqP64OvN2lrLO_OiQMLXi31gaLL1\"></div>\n",
    "\n",
    "##### there is nothing to submit; we will receive an email about this"
   ]
  },
  {
   "cell_type": "markdown",
   "metadata": {},
   "source": [
    "# exercise 4: add collaborators <span style=\"color:red;font-weight:bold\">ANSWERS</span>\n",
    "\n",
    "follow the menu clicks in the question!"
   ]
  },
  {
   "cell_type": "markdown",
   "metadata": {},
   "source": [
    "# exercise 5: log in to *my* `ec2` instance\n",
    "\n",
    "in last week's assignment you sent me a hailing ip and a public key. these are the things a system administrator might ask of you when they want to grant you `ssh` logon access to a `linux` machine.\n",
    "\n",
    "well we're granting you access!\n",
    "\n",
    "using the *private* key that corresponds to the *public* key you sent us last week, make an `ssh` connection using the following details:\n",
    "\n",
    "+ host: `ec2-34-193-143-227.compute-1.amazonaws.com`\n",
    "+ user name: your georgetown user id (e.g., my username would be `rzl5`)\n",
    "\n",
    "**WAIT UNTIL SUNDAY TO ATTMEMPT LOGIN!!**. we will add users and keys on Saturday after all homework has been submitted.\n",
    "\n",
    "*note: we're not asking you to do this from your `ec2` instance, we're asking you to do this from your personal laptop. this is the exact same process as logging in to your `ec2` instance, but now with a different host name, user name, and potentially a different private key, depending on how you answered last week's homework assignment*\n",
    "\n",
    "\n",
    "##### there is nothing to see here; we will see your login attempts in our log files!"
   ]
  },
  {
   "cell_type": "markdown",
   "metadata": {},
   "source": [
    "# exercise 5: log in to *my* `ec2` instance <span style=\"color:red;font-weight:bold\">ANSWERS</span>\n",
    "\n",
    "this is the same process as logging in to your `ec2` server"
   ]
  }
 ],
 "metadata": {
  "kernelspec": {
   "display_name": "Python 3",
   "language": "python",
   "name": "python3"
  },
  "language_info": {
   "codemirror_mode": {
    "name": "ipython",
    "version": 3
   },
   "file_extension": ".py",
   "mimetype": "text/x-python",
   "name": "python",
   "nbconvert_exporter": "python",
   "pygments_lexer": "ipython3",
   "version": "3.6.6"
  }
 },
 "nbformat": 4,
 "nbformat_minor": 2
}
