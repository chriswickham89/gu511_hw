{
 "cells": [
  {
   "cell_type": "markdown",
   "metadata": {},
   "source": [
    "# Exercises due by EOD 2018.09.14"
   ]
  },
  {
   "cell_type": "markdown",
   "metadata": {},
   "source": [
    "## goal"
   ]
  },
  {
   "cell_type": "markdown",
   "metadata": {},
   "source": [
    "in this homework assignment we will focus on `ssh` connections between client computers (your laptops) and remote computers (your `ec2` instance)"
   ]
  },
  {
   "cell_type": "markdown",
   "metadata": {},
   "source": [
    "## method of delivery"
   ]
  },
  {
   "cell_type": "markdown",
   "metadata": {},
   "source": [
    "as mentioned in our first lecture, the method of delivery may change from assignment to assignment. we will include this section in every assignment to provide an overview of how we expect homework results to be submitted, and to provide background notes or explanations for \"new\" delivery concepts or methods."
   ]
  },
  {
   "cell_type": "markdown",
   "metadata": {},
   "source": [
    "this week you will be submitting the results of your homework as a single email to [rzl5@georgetown.edu](mailto:rzl5@georgetown.edu?subject=2018.09.14%20answers) with a subject \"2018.09.14 answers\"\n",
    "\n",
    "summary:\n",
    "\n",
    "| exercise | deliverable | method of delivery |\n",
    "|----------|-------------|--------------------|\n",
    "| 1        | none        | none               |\n",
    "| 2        | none        | none               |\n",
    "| 3        | `ip` address and `openssh` public key string | include in body of submission email |\n",
    "| 4        | `ssh` `config` file entry | attach a file named `config` to your submission email |\n",
    "| 5        | none        | none               |\n",
    "| 6        | a decoded single number | include in body of submission email |"
   ]
  },
  {
   "cell_type": "markdown",
   "metadata": {},
   "source": [
    "# exercise 1: read this excellent `dns` explainer\n",
    "\n",
    "in class we discussed how your `ec2` instance has a public `ip` address and a \"`dns`\" -- what is a `dns`?\n",
    "\n",
    "read [this cute little explainer on how `dns` works](https://howdns.works/ep1/). I'd estimate it takes about 20 minutes to read.\n",
    "\n",
    "you're on the honor code!\n",
    "\n",
    "##### nothing to submit here"
   ]
  },
  {
   "cell_type": "markdown",
   "metadata": {},
   "source": [
    "# exercise 2: generating a public and private key pair\n",
    "\n",
    "create a public and private `ssh` key pair using the [RSA encryption algorithm](https://simple.wikipedia.org/wiki/RSA_%28algorithm%29).\n",
    "\n",
    "use the following programs (depending on your operating system)\n",
    "\n",
    "| os           | software                                                                     |\n",
    "|--------------|------------------------------------------------------------------------------|\n",
    "| windows      | [`puttygen`](https://www.chiark.greenend.org.uk/~sgtatham/putty/latest.html) |\n",
    "| mac or linux | `ssh-keygen` (part of the `openssh` package)                                 |\n",
    "\n",
    "while creating those two files, get a version of the public key in `openssh` RSA format for use in an `openssh authorized_keys` file\n",
    "\n",
    "+ this is the default format for public keys created by `ssh-keygen`, so nothing more is needed here\n",
    "+ this is the value in the top window of the `puttygen` program on windowssh: <img align=\"middle\" src=\"http://drive.google.com/uc?export=view&id=0ByQ4VmO-MwEEaERhMUpIekNObFk\"></img>\n",
    "    + Either capture it when creating the key pair, or reload the created key pair with the \"load\" button and capture it then\n",
    "\n",
    "a properly formatted `openssh` public key for an `authorized_keys` file will look like\n",
    "\n",
    "```\n",
    "ssh-rsa AAAAB3NzaC1yc2EAAAADAQABAAABAQCcPZIwNUzBD4jufWUPBLVzQRkPLRoJqMYgHUTH+7fdCvYGMMx+WiamyncGzcsMZpcSWDbGlCEuo//NTSc2CSS0jdgsDhBHHZ14kHO5A5zThrmNw0v/D9AH/BaE1B8ls++iDE2SmLMEQIAVD4IfmdWfkCwZaQto6hIb4XUXED/Jz8dWzG4opOpfgNMDiYK31y5qhgZQidaSdUNNOxBoCPaemHURp5SwBm+sbTnTQH4oza/FPkd24G3Ruh9TGIoBB5FGu+Qcz1tuGbk+8Iy6oWmWFa+Z+XtTpUbs5XHjptcbI5xXVsPdg360vK+drCWkJEvdIBEzQXwHDif985oX37rT zlamberty@megaman\n",
    "```\n",
    "\n",
    "remember: ***NEVER GIVE ANYONE THAT PRIVATE KEY!!!***\n",
    "\n",
    "##### nothing to submit here"
   ]
  },
  {
   "cell_type": "markdown",
   "metadata": {},
   "source": [
    "# exercise 3: set up your login to *my* `ec2` instance\n",
    "\n",
    "let's play a game of \"working with the customer's sysad / IT people to set up our connection to their linux machine at the start of our project or maybe week 10 yolo\".\n",
    "\n",
    "I want to give you access to my `ec2` instance. being a good system administrator, I know exactly what I need from you:\n",
    "\n",
    "1. the `ip` address from which you want to connect (http://lmgtfy.com/?q=what+is+my+ip)\n",
    "1. the `openssh`-formatted **public** (not private) key from exercise 1 (see the formatting just above)\n",
    "\n",
    "*note*: this `ip` address is very specific! it is assigned when you connect to whatever network you are connected to -- this means your `ip` address is different at home vs. on campus vs. at starbucks. whatever `ip` address you send us is the *only* one from which you will be able to connect.\n",
    "\n",
    "you will send this to us in an email (see submission instructions below), and we will respond to you with an email notifying you that you should have access to our `ec2` instance. in that email we will provide you with\n",
    "\n",
    "+ the server url\n",
    "+ your user name\n",
    "\n",
    "this information will be enough -- right?\n",
    "\n",
    "##### submit your \"hailing\" `ip` address and an `openssh`-formatted public key string via email"
   ]
  },
  {
   "cell_type": "markdown",
   "metadata": {},
   "source": [
    "# exercise 4: create an `ssh` `config` file entry\n",
    "\n",
    "## 4.1: refresher on `config` entries\n",
    "in class we discussed how the `ssh` `config` file can allow you to assign short, memorable nicknames to the set of configuration parameters you would pass to the `ssh` command for each remote server to which you wish to connect.\n",
    "\n",
    "for example, instead of writing\n",
    "\n",
    "``` sh\n",
    "ssh -i ~/.ssh/my_special_key_file ubuntu@ec2-xx-xxx-xx-xxx.compute-1.amazonaws.com\n",
    "```\n",
    "\n",
    "you could *instead* add the following to your `~/.ssh/config` file:\n",
    "\n",
    "```\n",
    "Host my_ec2\n",
    "    HostName ec2-xx-xxx-xx-xxx.compute-1.amazonaws.com\n",
    "    User ubuntu\n",
    "    IdentityFile ~/.ssh/my_special_key_file\n",
    "```\n",
    "\n",
    "after adding this record, you could replace the long `ssh` command above with simply\n",
    "\n",
    "```\n",
    "ssh my_ec2\n",
    "```\n",
    "\n",
    "## 4.2: the actual thing we're asking you to do\n",
    "\n",
    "create a file named `config` (don't overwrite the one in your `~/.ssh` directory unless you really mean to do so) with an `ssh` `config` entry for a host nicknamed `gu511` and with the specific `HostName` and `IdentityFile` values you would use to connect\n",
    "\n",
    "## 4.3: add that info to your *real* `~/.ssh/config` file\n",
    "\n",
    "if you would like, you may add that block of text to the end of your `~/.ssh/config` file. create it if it doesn't exist, and then open it in a text editor of your choice and add the `Host` block to the end of that file. feel free to change the host nickname if you'd like for this real file.\n",
    "\n",
    "\n",
    "##### attach the file named `config` to your submission email"
   ]
  },
  {
   "cell_type": "markdown",
   "metadata": {},
   "source": [
    "# exercise 5: walk through the `ssh` demo notebook with a partner\n",
    "\n",
    "Partner up with some one else in class and walk through this [`ssh_keys` notebook](https://colab.research.google.com/drive/19GYn2Xr4iFD3bVhOpTrrieb0f1BFKkJi).\n",
    "\n",
    "Note: there are a few ways to run the `ssh_keys.ipynb` notebook.\n",
    "\n",
    "1. easiest: the above link will take you to a google \"colab\" notebook browser, so just run it there\n",
    "    1. sign in to google with your `georgetown.edu` account\n",
    "    1. click the \"OPEN IN PLAYGROUND\" button in the top right. this will give you a working `python` session\n",
    "    1. run cells by selecting them and pressing \"SHIFT + ENTER\", or clicking the play buttons\n",
    "1. `python` and `jupyter` pro: download the file (\"File > Download .ipynb\") and run it in a local `jupyter notebook` server session"
   ]
  },
  {
   "cell_type": "markdown",
   "metadata": {},
   "source": [
    "# exercise 6: decoding *our* message\n",
    "\n",
    "using the [`ssh_keys` notebook](https://colab.research.google.com/drive/19GYn2Xr4iFD3bVhOpTrrieb0f1BFKkJi) from exercise 5, decode *our* message.\n",
    "\n",
    "we will be using the `RSA` encryption algorithm, so follow along with the \"making it a bit harder: RSA\" section in that notebook. We (Carlos, Andrew, and I) are partner 2; you are partner 1."
   ]
  },
  {
   "cell_type": "markdown",
   "metadata": {},
   "source": [
    "## 6.1: setting up your \"public / private\" key\n",
    "\n",
    "leave `p` and `q` as is:\n",
    "\n",
    "```python\n",
    "p = 1987\n",
    "q = 13\n",
    "```\n",
    "\n",
    "instead of picking a random value of `e` which satisfies the coprime condition, hard-code `e` to have a value of 451. there is a commented out cell in that `ssh_keys` notebook -- un-comment-out the line\n",
    "\n",
    "```python\n",
    "e = 451\n",
    "```\n",
    "\n",
    "After doing this, you should have\n",
    "\n",
    "+ `(p, q, e) = (1987, 13, 451)`\n",
    "+ your public key values are `(n, e) = (25831, 451)`\n",
    "+ your private key values will be `(n, d) = (25831, 1735)`"
   ]
  },
  {
   "cell_type": "markdown",
   "metadata": {},
   "source": [
    "## 6.2: receiving an encrypted message\n",
    "\n",
    "We (Carlos and I) have encoded a message using using your public key information, and the encrypted version of our message is:\n",
    "\n",
    "```\n",
    "15417\n",
    "```\n",
    "\n",
    "what was our original message (a number)?\n",
    "\n",
    "\n",
    "##### include the original message number in the body of the email"
   ]
  }
 ],
 "metadata": {
  "kernelspec": {
   "display_name": "Python 3",
   "language": "python",
   "name": "python3"
  },
  "language_info": {
   "codemirror_mode": {
    "name": "ipython",
    "version": 3
   },
   "file_extension": ".py",
   "mimetype": "text/x-python",
   "name": "python",
   "nbconvert_exporter": "python",
   "pygments_lexer": "ipython3",
   "version": "3.6.6"
  }
 },
 "nbformat": 4,
 "nbformat_minor": 2
}
