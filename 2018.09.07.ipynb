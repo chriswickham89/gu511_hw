{
 "cells": [
  {
   "cell_type": "markdown",
   "metadata": {},
   "source": [
    "# Exercises due by EOD 2018.09.07"
   ]
  },
  {
   "cell_type": "markdown",
   "metadata": {},
   "source": [
    "## goal"
   ]
  },
  {
   "cell_type": "markdown",
   "metadata": {},
   "source": [
    "in this homework assignment we will collect information about our computers (both real, physical laptops and brand new virtual computers), as well as share some important account and user name information"
   ]
  },
  {
   "cell_type": "markdown",
   "metadata": {},
   "source": [
    "## method of delivery"
   ]
  },
  {
   "cell_type": "markdown",
   "metadata": {},
   "source": [
    "*as mentioned in our first lecture, the method of delivery may change from assignment to assignment. we will include this section in every assignment to provide an overview of how we expect homework results to be submitted, and to provide background notes or explanations for \"new\" delivery concepts or methods.*"
   ]
  },
  {
   "cell_type": "markdown",
   "metadata": {},
   "source": [
    "this week you will be submitting the results of your homework as a single email to [rzl5@georgetown.edu](mailto:rzl5@georgetown.edu?subject=2018.09.07%20answers) with a subject \"2018.09.07 answers\"\n",
    "\n",
    "summary:\n",
    "\n",
    "| exercise | deliverable | method of delivery |\n",
    "|----------|-------------|--------------------|\n",
    "| 1 | table of hardware and software values | include in the email body or as an attachment |\n",
    "| 2 | three image files | attach to the submission email |\n",
    "| 3 | your `aws` account id and alias, and `iam` user `ARN` | include in the email body |\n",
    "| 4 | your instance type, id, public `ipv4`, and public `dns` | include in the email body |\n",
    "| 5 | your `github` user `url` | include in the email body |\n",
    "| 6 | nothing\n",
    "| 7 | nothing"
   ]
  },
  {
   "cell_type": "markdown",
   "metadata": {},
   "source": [
    "# exercise 1: computer details\n",
    "\n",
    "let's quantify the resources available to us in both our personal laptops and the `aws` `ec2` instance we just spun up. don't get too hung up on the exact values here, our goal is to get to a place where we basically understand what the items in the \"item\" column below are.\n",
    "\n",
    "\n",
    "*fill out the elements in the following table:*\n",
    "\n",
    "| item                          | my computer | my aws instance \n",
    "|-------------------------------|-------------|-----------------\n",
    "| operating system              |             |\n",
    "| operating system version      |             |\n",
    "| RAM / memory (GiB)            |             |\n",
    "| number of processor cores     |             |\n",
    "| hard disk space (total)       |             |\n",
    "| python version (if installed) |             |\n",
    "| R version (if installed)      |             |\n",
    "\n",
    "\n",
    "some notes:\n",
    "\n",
    "+ generally, for the aws instance, you may find [this page](https://aws.amazon.com/ec2/instance-types/) useful.\n",
    "+ because we didn't cover `ssh` connections, you don't have to fill in the `python` or `R` version columns. for all the rest, that information is in the setup instructions or online.\n",
    "+ \"number of processor cores\"\n",
    "    + in `aws`, these are called `vCPU`s\n",
    "    + on your laptop, you could find this by\n",
    "        + identifying the number of bars in the CPU your \"task manager\", \"activity monitory\", or \"htop\"\n",
    "        + looking up your computer's particular CPU and googling for it\n",
    "+ `python` and `R` versions\n",
    "    + if we haven't discussed how to access the command line of your `aws` instance using `ssh` yet:\n",
    "        + if you are unaware how to do so independently, you do not need to fill out the `python` and `R` version information for your instance.\n",
    "        + if you do know how to access those servers via `ssh`, however, the command line commands to get the `python` and `R` versions are simple: `python3 --version` and `R --version`\n",
    "        + remember, they might not be installed.\n",
    "\n",
    "##### submit this as an attached `csv`, a list, or a formatted table in the email. just have something that contains these values in there."
   ]
  },
  {
   "cell_type": "markdown",
   "metadata": {},
   "source": [
    "# exercise 2. signing in to `aws`\n",
    "\n",
    "let's get practice singing in and out of our new `aws` account\n",
    "\n",
    "*note: for help with the questions below, please refer to the section of the \"logging on\" lecture titled \"reviewing login process\"*"
   ]
  },
  {
   "cell_type": "markdown",
   "metadata": {},
   "source": [
    "## 2.2: sign in as `root`\n",
    "\n",
    "we'll start by breaking our \"never sign in as `root`\" rule. follow the steps from the lecture to sign in to your `root` account.\n",
    "\n",
    "demonstrate that you have successfully signed in by sending us a screenshot of your user name as it appears in your `root` sign-in. for example:\n",
    "\n",
    "<div center=\"align\"><img align=\"middle\" src=\"https://drive.google.com/uc?export=view&id=0ByQ4VmO-MwEEWGZVQ1dGR2duUWc\"></div>"
   ]
  },
  {
   "cell_type": "markdown",
   "metadata": {},
   "source": [
    "## 2.3: verify you have created an account alias\n",
    "\n",
    "in lecture we walked through how to create an alias (a shorthand replacement for your account id number). send a screenshot of your login address:\n",
    "\n",
    "<div center=\"align\"><img align=\"middle\" src=\"https://drive.google.com/uc?export=view&id=0ByQ4VmO-MwEEbmt1Ty14anZkbGM\"></div>"
   ]
  },
  {
   "cell_type": "markdown",
   "metadata": {},
   "source": [
    "## 2.4: sign in as `iam` user\n",
    "\n",
    "use that alias login address to log in as your `iam` user. demonstrate that you have successfully signed in by sending us a screenshot of your user name as it appears in your `iam` user sign-in:\n",
    "\n",
    "<div center=\"align\"><img align=\"middle\" src=\"https://drive.google.com/uc?export=view&id=0ByQ4VmO-MwEES3hBLW1FMS12VzQ\"></div>"
   ]
  },
  {
   "cell_type": "markdown",
   "metadata": {},
   "source": [
    "## 2.5: submit the above\n",
    "\n",
    "##### submit the above pictures as three separate image files (`png`, `jpeg`, whatever) attached to the submission file"
   ]
  },
  {
   "cell_type": "markdown",
   "metadata": {},
   "source": [
    "# exercise 3. `aws` account info\n",
    "\n",
    "answer the following three questions:\n",
    "\n",
    "1. what is your `aws` account id?\n",
    "2. what is your `aws` account alias?\n",
    "3. what is your `iam` user's ARN (amazon resource name)?"
   ]
  },
  {
   "cell_type": "markdown",
   "metadata": {},
   "source": [
    "## defining the above\n",
    "\n",
    "1. `aws` account id\n",
    "    1. this is a unique 12 digit number for every `aws` account\n",
    "    2. it can be found on your \"My Account\" page\n",
    "2. `aws` account alias\n",
    "    1. you verify you have created this in exercise 2.3 above\n",
    "    2. it can be found on your `iam` dashboard, on the first line\n",
    "3. your `iam` user's ARN (amazon resource name)\n",
    "    1. an ARN is a unique identifier of resources, users, and services\n",
    "    2. ARNs are used throughout `aws` to manage permissions and communication\n",
    "    3. your user's ARN is found on a page within the `iam` service\n",
    "        1. go to the `iam` service\n",
    "        2. click on the \"Users\" left dashboard\n",
    "        3. click on your `iam` user name: <img align=\"middle\" src=\"https://drive.google.com/uc?export=view&id=0ByQ4VmO-MwEEWHRzdlVNTWwyalU\"></img><br>\n",
    "        4. the ARN is in the first line of the summary: <img align=\"middle\" src=\"https://drive.google.com/uc?export=view&id=0ByQ4VmO-MwEEVkJzR1hiTm1zSjg\"></img><br>"
   ]
  },
  {
   "cell_type": "markdown",
   "metadata": {},
   "source": [
    "##### include these three values as a list in the body of the email"
   ]
  },
  {
   "cell_type": "markdown",
   "metadata": {},
   "source": [
    "# exercise 4. `ec2` instance details\n",
    "\n",
    "all of the following items can be found on the `ec2 > Instances` dashboard\n",
    "\n",
    "<br><div align=\"center\"><img src=\"https://drive.google.com/uc?export=view&id=0ByQ4VmO-MwEEa2cwRi1DeGV6V28\"></div><br>\n",
    "\n",
    "1. what is your instance's instance type?\n",
    "2. what is your instance's instance id?\n",
    "    1. this is a unique identifier for every `ec2` server\n",
    "3. what is your instance's public ipv4 ip address\n",
    "4. what is your instance's public DNS\n",
    "\n",
    "##### include the four values above in the body of your email"
   ]
  },
  {
   "cell_type": "markdown",
   "metadata": {},
   "source": [
    "# exercise 5. `github` account\n",
    "\n",
    "`git` is the most widely used version control system in the linux world, and `github` is the largest and most popular `git` repository management service. everyone should have a `github` account, and we ask every person in this course to have one.\n",
    "\n",
    "there will be at least one `git` related question on every homework assignment.\n",
    "\n",
    "for now, we request that you [create an account](https://github.com/join) if you don't already have one.\n",
    "\n",
    "we want the `url` for you `github` account. for example, mine is [https://github.com/RZachLamberty](https://github.com/RZachLamberty).\n",
    "\n",
    "##### include the `url` to your `github` account in the submission email body"
   ]
  },
  {
   "cell_type": "markdown",
   "metadata": {},
   "source": [
    "# exercise 6. course topic survey\n",
    "\n",
    "go fill out the following survey on your relative interest and experiences in the topics we may cover in this course:\n",
    "\n",
    "https://goo.gl/forms/QdI04kLI04ctViwv2"
   ]
  },
  {
   "cell_type": "markdown",
   "metadata": {},
   "source": [
    "# exercise 7. downloading and executing `jupyter notebook` lectures [optional]\n",
    "\n",
    "this is an optional assignment, meant more as a supplementary walkthrough for the steps needed to download and locally run the lecture notes or homework assgignments.\n",
    "\n",
    "note: you **do not need** to run the lectures locally, and generally it won't make much of a difference if you do (they don't *do* much). **however**, the ability to execute `jupyter notebook` files will come in handy later on. Also worth noting: this process will be much more obvious after we have have finished lecture [004_python](https://github.com/rzl-ds/gu511/blob/master/004_python.ipynb), so you may want to consider waiting until then and revisiting.\n",
    "\n",
    "follow the steps below to acquire and then load the `jupyter notebook` lectures files"
   ]
  },
  {
   "cell_type": "markdown",
   "metadata": {},
   "source": [
    "## 7.1: acquire the lecture files\n",
    "\n",
    "the files themselves are hosted as [a `git` repo](https://github.com/rzl-ds/gu511). open that page.\n",
    "\n",
    "there are a few ways we can download these materials."
   ]
  },
  {
   "cell_type": "markdown",
   "metadata": {},
   "source": [
    "### use `git`\n",
    "\n",
    "this is the *correct* (tm) way to do it, but involves a skill we haven't learned yet. if you know what the following commands mean, do this. if you don't, skip to the next option (download a `zip` archive).\n",
    "\n",
    "```sh\n",
    "cd /path/where/i/want/to/put/this/code\n",
    "git clone https://github.com/rzl-ds/gu511.git\n",
    "```\n",
    "\n",
    "this will create a new directory/folder `/path/where/i/want/to/put/this/code/gu511`.\n",
    "\n",
    "if you want to receive updates at any point in the future, simply start by navigating in your terminal into that new directory and running:\n",
    "\n",
    "```sh\n",
    "git pull origin master\n",
    "```"
   ]
  },
  {
   "cell_type": "markdown",
   "metadata": {},
   "source": [
    "### download the contents as a `zip` archive\n",
    "\n",
    "just above the list of files on [the `github` site](https://github.com/rzl-ds/gu511) and on the right side of the window is a green button saying \"Clone or download\". if you click that button, a link saying \"Download ZIP\" is at the bottom of that list. download that `zip` archive anywhere you want, and use your operating system tools to unzip it."
   ]
  },
  {
   "cell_type": "markdown",
   "metadata": {},
   "source": [
    "## 7.2: configure your `python` environment to execute this code.\n",
    "\n",
    "if you have a preferred way of doing this in your mind, go ahead and do it. this section is for people who would prefer a walkthrough."
   ]
  },
  {
   "cell_type": "markdown",
   "metadata": {},
   "source": [
    "### install `conda`\n",
    "\n",
    "first, we will install `conda`. go to [the anaconda installation page](https://docs.anaconda.com/anaconda/install.html) ([windows](https://docs.anaconda.com/anaconda/install/windows), [mac](https://docs.anaconda.com/anaconda/install/windows)) and follow the instructions there. **install the `python` 3 version**\n",
    "\n",
    "refer to [these documents](https://conda.io/docs/user-guide/getting-started.html#starting-conda) on how to *start* `conda` once you have installed it.\n",
    "\n",
    "at this point, **you should be at a terminal where typing `conda --version` gives you an output, e.g. `conda 4.4.9`**. if not, make sure you get this point"
   ]
  },
  {
   "cell_type": "markdown",
   "metadata": {},
   "source": [
    "### install the necessary packages into your `conda` base environment\n",
    "\n",
    "we will execute the following command to install `jupyter`:\n",
    "\n",
    "```sh\n",
    "conda install jupyter\n",
    "```"
   ]
  },
  {
   "cell_type": "markdown",
   "metadata": {},
   "source": [
    "## 7.3: launch the notebooks\n",
    "\n",
    "in that terminal, change directories (`cd`) such that your working directory is `/path/where/i/want/to/put/this/code/gu511` (with `\\` characters and a `C:\\\\`, perhaps, if you are in windows-world).\n",
    "\n",
    "from this directory, run\n",
    "\n",
    "```sh\n",
    "jupyter notebook\n",
    "```\n",
    "\n",
    "this should launch a web browser and display the `jupyter notebook` main page, with the individual lecutres available as clickable files. you're done!"
   ]
  }
 ],
 "metadata": {
  "kernelspec": {
   "display_name": "Python 3",
   "language": "python",
   "name": "python3"
  },
  "language_info": {
   "codemirror_mode": {
    "name": "ipython",
    "version": 3
   },
   "file_extension": ".py",
   "mimetype": "text/x-python",
   "name": "python",
   "nbconvert_exporter": "python",
   "pygments_lexer": "ipython3",
   "version": "3.6.6"
  }
 },
 "nbformat": 4,
 "nbformat_minor": 2
}
